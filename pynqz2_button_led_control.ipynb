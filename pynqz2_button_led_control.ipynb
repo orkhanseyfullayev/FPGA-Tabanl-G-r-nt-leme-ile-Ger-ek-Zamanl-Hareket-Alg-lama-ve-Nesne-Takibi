from time import sleep
from pynq.overlays.base import BaseOverlay
