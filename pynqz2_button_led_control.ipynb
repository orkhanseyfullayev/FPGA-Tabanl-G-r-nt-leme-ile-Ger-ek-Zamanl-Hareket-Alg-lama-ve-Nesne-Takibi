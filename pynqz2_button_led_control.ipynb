{
 "cells": [
  {
   "cell_type": "code",
   "execution_count": null,
   "metadata": {},
   "outputs": [],
   "source": [
    "from time import sleep\n",
    "from pynq.overlays.base import BaseOverlay\n",
    "\n",
    "base = BaseOverlay(\"base.bit\")\n",
    "\n",
    "Gecikme1 = 0.3\n",
    "Gecikme2 = 0.1\n",
    "renk = 0\n",
    "rgbled_position = [4, 5]\n",
    "\n",
    "for led in base.leds:\n",
    "    led.on()\n",
    "\n",
    "while (base.buttons[3].read() == 0):\n",
    "    if (base.buttons[0].read() == 1):\n",
    "        renk = (renk + 1) % 8\n",
    "        for led in rgbled_position:\n",
    "            base.rgbleds[led].write(renk)\n",
    "            base.rgbleds[led].write(renk)\n",
    "        sleep(Gecikme1)\n",
    "\n",
    "    elif (base.buttons[1].read() == 1):\n",
    "        for led in base.leds:\n",
    "            led.off()\n",
    "        sleep(Gecikme2)\n",
    "        for led in base.leds:\n",
    "            led.toggle()\n",
    "        sleep(Gecikme2)\n",
    "\n",
    "    elif (base.buttons[2].read() == 1):\n",
    "        for led in reversed(base.leds):\n",
    "            led.off()\n",
    "        sleep(Gecikme2)\n",
    "        for led in reversed(base.leds):\n",
    "            led.toggle()\n",
    "        sleep(Gecikme2)\n",
    "\n",
    "print('Uygulama sonlandırıldı ...')\n",
    "for led in base.leds:\n",
    "    led.off()\n",
    "\n",
    "for led in rgbled_position:\n",
    "    base.rgbleds[led].off()\n"
   ]
  }
 ],
 "metadata": {
  "kernelspec": {
   "display_name": "Python 3",
   "language": "python",
   "name": "python3"
  },
  "language_info": {
   "name": "python",
   "version": "3.12.1"
  }
 },
 "nbformat": 4,
 "nbformat_minor": 2
}
